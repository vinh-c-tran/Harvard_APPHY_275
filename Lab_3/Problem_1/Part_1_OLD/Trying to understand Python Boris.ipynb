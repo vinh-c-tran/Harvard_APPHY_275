{
 "cells": [
  {
   "cell_type": "markdown",
   "id": "5ad319f7",
   "metadata": {},
   "source": [
    "## Utility "
   ]
  },
  {
   "cell_type": "markdown",
   "id": "1a1d2666",
   "metadata": {},
   "source": [
    "### Imports\n",
    "- os library: miscellaneous operating system interfaces\n",
    "    - Manipulating paths with os.path\n",
    "    - \n",
    "- subprocess libary \n",
    "    - Allows for running executables in command line\n",
    "- time "
   ]
  },
  {
   "cell_type": "code",
   "execution_count": 2,
   "id": "ef64b082",
   "metadata": {},
   "outputs": [],
   "source": [
    "import os, subprocess, time "
   ]
  },
  {
   "cell_type": "code",
   "execution_count": 36,
   "id": "69447316",
   "metadata": {},
   "outputs": [],
   "source": [
    "def check_pid(pid):\n",
    "    \"\"\" check for existence of unix pid. copied from stack overflow \n",
    "        if kill process returns an error, we don't have a pid -> return False\n",
    "        else, we do have a pid -> return True \n",
    "    \"\"\"\n",
    "    try: \n",
    "        os.kill(pid, 0)\n",
    "    except OSErrow:\n",
    "        return False \n",
    "    else:\n",
    "        return True "
   ]
  },
  {
   "cell_type": "code",
   "execution_count": 37,
   "id": "eed8766f",
   "metadata": {},
   "outputs": [],
   "source": [
    "def observe_job(process, wait):\n",
    "    \"\"\" checks on job or just lets it proceed \"\"\"\n",
    "    if wait:\n",
    "        # Wait for completion of a child process given by process id pid, \n",
    "        # and return a tuple containing its process id and exit status indication\n",
    "        os.waitpid(process.pid, 0)\n",
    "    else: \n",
    "        while check_pid(process.pid):\n",
    "            time.sleep(1) "
   ]
  },
  {
   "cell_type": "code",
   "execution_count": 39,
   "id": "c7d9b73e",
   "metadata": {},
   "outputs": [],
   "source": [
    "def run_command(command):\n",
    "    \"\"\" runs command line command via subprocess\n",
    "        waits until process is finished until it returns the pid \n",
    "    \"\"\"\n",
    "    command_run = subprocess.Popen(command, shell = True)\n",
    "    \n",
    "    # gets the pid of the process\n",
    "    pid = myrun.pid\n",
    "    observe_job(process = command_run, wait = True)\n",
    "    return pid "
   ]
  },
  {
   "cell_type": "code",
   "execution_count": 3,
   "id": "eee06db5",
   "metadata": {},
   "outputs": [],
   "source": [
    "def prepare_dir(dirpath):\n",
    "    \"\"\" creates directory at path dirpath \n",
    "        if doesn't already exist \"\"\"\n",
    "    if not os.path.exists(dirpath):\n",
    "        os.makedirs(dirpath) "
   ]
  },
  {
   "cell_type": "markdown",
   "id": "4f2471d5",
   "metadata": {},
   "source": [
    "#### Writing text to a file "
   ]
  },
  {
   "cell_type": "code",
   "execution_count": 5,
   "id": "dc4d902e",
   "metadata": {},
   "outputs": [],
   "source": [
    "def write_file(file_name, text):\n",
    "    \"\"\" writes text to file file_name \"\"\"\n",
    "    \n",
    "    with open(file_name, 'w') as f_in:\n",
    "        f_in.write(text)"
   ]
  },
  {
   "cell_type": "markdown",
   "id": "354f39f8",
   "metadata": {},
   "source": [
    "#### Reading text from a file "
   ]
  },
  {
   "cell_type": "code",
   "execution_count": 6,
   "id": "f9ef0aa4",
   "metadata": {},
   "outputs": [],
   "source": [
    "def read_file(file_name):\n",
    "    \"\"\" opens up file_name and reads in text\n",
    "        returns the text\n",
    "    \"\"\"\n",
    "    with open(file_name, \"r\") as file_out:\n",
    "        text = file_out.read() \n",
    "    return text "
   ]
  },
  {
   "cell_type": "markdown",
   "id": "99dff04c",
   "metadata": {},
   "source": [
    "#### Cleaning up directory\n",
    "1. First, generate a list of files in a directory pointed to by dirpath\n",
    "2. Iterate over all names of files in file list:\n",
    "    - Get path of the file by calling os.path.join(dirpath, file)\n",
    "    - Call os.remove() to remove the file "
   ]
  },
  {
   "cell_type": "code",
   "execution_count": 14,
   "id": "089f04c1",
   "metadata": {},
   "outputs": [],
   "source": [
    "def cleanup_dir(dirpath):\n",
    "    \n",
    "    # returns a list of strings of names of files in folder\n",
    "    files = os.listdir(dirpath) \n",
    "    \n",
    "    for file in files:\n",
    "        os.remove(os.path.join(dirpath, file))"
   ]
  },
  {
   "cell_type": "markdown",
   "id": "85a28471",
   "metadata": {},
   "source": [
    "## Objects Module"
   ]
  },
  {
   "cell_type": "code",
   "execution_count": 19,
   "id": "c940cb06",
   "metadata": {},
   "outputs": [],
   "source": [
    "import ase, json, os"
   ]
  },
  {
   "cell_type": "markdown",
   "id": "4b167827",
   "metadata": {},
   "source": [
    "### Notes Generic Object\n",
    "1. This defines a template class/parent class based off of python object class \n",
    "    - Define an init function that takes args and kwargs. Args and Kwargs allow for variable inputs to a function. \n",
    "        - \\*args refers to non-keyword arguments\n",
    "        - \\*\\*kwargs refers to keyword arguments (like dicts) \n",
    "    - Define a \\_\\_repr\\_\\_ function that returns a representative string. Note how it allows for  "
   ]
  },
  {
   "cell_type": "code",
   "execution_count": 25,
   "id": "2e334cb9",
   "metadata": {},
   "outputs": [],
   "source": [
    "class Generic(object):\n",
    "    \"\"\"\n",
    "    Basic class for data object. Defined by attribute content which \n",
    "    can be a number, string, list, dict \n",
    "    \"\"\"\n",
    "    \n",
    "    def __init__(self, *args, **kwargs):\n",
    "        \"\"\" stores data in attribute content \"\"\"\n",
    "        if args: \n",
    "            # in case of a single literal or dict being supplied\n",
    "            assert not kwargs and len(args) ==1, \"wrong number of init args\"\n",
    "            self.content = args[0]\n",
    "        if kwargs: \n",
    "            # can supply content = dict, or an unpacked dict by keywords but not both\n",
    "            if 'content' in kwargs:\n",
    "                assert not args and len(kwargs) == 1, \"wrong number of init kwargs\"\n",
    "                self.content = kwargs['content']\n",
    "            else:\n",
    "                self.content = kwargs \n",
    "    \n",
    "    def __repr__(self):\n",
    "        \"\"\" returns a representation string of the class instance \"\"\"\n",
    "        return \"{} {}\".format(self.__class__.__name__, self.content)\n",
    "            "
   ]
  },
  {
   "cell_type": "markdown",
   "id": "20aa1655",
   "metadata": {},
   "source": [
    "### Path Class\n",
    "1. I think the property tag means path class inherits the stuff. \n",
    "2. Adds an additional method path which returns the path string. "
   ]
  },
  {
   "cell_type": "code",
   "execution_count": 27,
   "id": "4fb0afe5",
   "metadata": {},
   "outputs": [],
   "source": [
    "class Path(Generic):\n",
    "    \"\"\" data class used to store OS path objects as a dict \n",
    "        {key: value}\n",
    "        {'path': <path_string>}\n",
    "    \"\"\"\n",
    "    @property \n",
    "    def path(self):\n",
    "        return self.content['path'] "
   ]
  },
  {
   "cell_type": "code",
   "execution_count": 29,
   "id": "b758b1c1",
   "metadata": {},
   "outputs": [],
   "source": [
    "class TextFile(Path):\n",
    "    @property\n",
    "    \n",
    "    def text(self):\n",
    "        return self.content['text']\n",
    "    \n",
    "    def write(self):\n",
    "        util.write_file(file_name = self.path, text = self.text)\n",
    "    "
   ]
  },
  {
   "cell_type": "code",
   "execution_count": null,
   "id": "428a5c76",
   "metadata": {},
   "outputs": [],
   "source": [
    "class Struc(Generic):\n",
    "    \"\"\"\n",
    "    Data class containing information about a structure\n",
    "    example:\n",
    "        struct1 = {\n",
    "            \"cell\": [[1.0, 0.0, 0.0], [0.0, 1.0, 0.0], [0.0, 0.0, 2.0]],\n",
    "            \"periodicity\": [True, True, True],\n",
    "            \"species\": {'H': {'id': 1, 'mass':1.008, 'atomic_number': 1},\n",
    "                              'He',{'id': 2, 'mass': 4.003, 'atomic_number' : 2}}\n",
    "            \"positions\": [['H', [4.0, 3.0, 6.0]],\n",
    "                            ['He', [4.0, 5.0, 9.0]]],\n",
    "            }\n",
    "    \"\"\"\n",
    "    @staticmethod \n",
    "    \n",
    "    def from_ase(ase_obj):\n",
    "        # need to use \n",
    "        cell = ase_obj.cell.tolist() "
   ]
  },
  {
   "cell_type": "code",
   "execution_count": 28,
   "id": "906b26fc",
   "metadata": {},
   "outputs": [
    {
     "ename": "IndentationError",
     "evalue": "expected an indented block (4022703792.py, line 1)",
     "output_type": "error",
     "traceback": [
      "\u001b[0;36m  File \u001b[0;32m\"/var/folders/7m/wjq3fz9n2xxb30mqqs56njxw0000gn/T/ipykernel_95640/4022703792.py\"\u001b[0;36m, line \u001b[0;32m1\u001b[0m\n\u001b[0;31m    class PseudoPotential(Path):\u001b[0m\n\u001b[0m                                ^\u001b[0m\n\u001b[0;31mIndentationError\u001b[0m\u001b[0;31m:\u001b[0m expected an indented block\n"
     ]
    }
   ],
   "source": [
    "class PseudoPotential(Path):"
   ]
  },
  {
   "cell_type": "markdown",
   "id": "e307ff39",
   "metadata": {},
   "source": [
    "## PWSCF"
   ]
  },
  {
   "cell_type": "code",
   "execution_count": 30,
   "id": "c24adce1",
   "metadata": {},
   "outputs": [],
   "source": [
    "import numpy, os, copy"
   ]
  },
  {
   "cell_type": "code",
   "execution_count": 33,
   "id": "d49c5015",
   "metadata": {},
   "outputs": [],
   "source": [
    "class PWscf_inparam(Generic):\n",
    "    pass"
   ]
  },
  {
   "cell_type": "code",
   "execution_count": 34,
   "id": "f6a17d48",
   "metadata": {},
   "outputs": [],
   "source": [
    "def write_pwscf_inpit(runpath, params, struc, kpoints,\\\n",
    "                      pseudopots, constraint=None):\n",
    "    \"\"\" Make input param string for PW \"\"\"\n",
    "    \n",
    "    # automatically fill in missing values\n",
    "    \n",
    "    pcont = copy.deepcopy(params.content)\n",
    "    \n",
    "    pcont[]"
   ]
  },
  {
   "cell_type": "code",
   "execution_count": null,
   "id": "2ffb1cfa",
   "metadata": {},
   "outputs": [],
   "source": [
    "def run_qe_pwscf(struc, runpath, pseudopots, params,\\\n",
    "                 kpoints, constraint = None, ncpu = 1, nkpool = 1)"
   ]
  },
  {
   "cell_type": "markdown",
   "id": "1c06d3a2",
   "metadata": {},
   "source": [
    "### Input File Generating Function\n",
    "We need a function that takes parameters and generates a quantum espresso input file. "
   ]
  },
  {
   "cell_type": "markdown",
   "id": "36196e41",
   "metadata": {},
   "source": [
    "## Run Function"
   ]
  },
  {
   "cell_type": "markdown",
   "id": "2b8fe915",
   "metadata": {},
   "source": [
    "### Parsing Function\n",
    "We need a function to parse through the quantum espresso out file and "
   ]
  },
  {
   "cell_type": "code",
   "execution_count": 40,
   "id": "b7d8e520",
   "metadata": {},
   "outputs": [],
   "source": [
    "def parse_qe_pwscf_output(outfile):\n",
    "    with open(outfile.path, 'r') as outf:\n",
    "        for line in outf:\n",
    "            if line.lower().startswith('     pwscf'):\n",
    "                walltime = line.split()[-3] + line.split()[-2]\n",
    "            if line.lower().startswith('     total force'):\n",
    "                total_force = float(line.split()[3]) * (13.605698066 / 0.529177249)\n",
    "            if line.lower().startswith('!    total energy'):\n",
    "                total_energy = float(line.split()[-2]) * 13.605698066\n",
    "            if line.lower().startswith('          total   stress'):\n",
    "                pressure = float(line.split()[-1])\n",
    "    result = {'energy': total_energy, 'force': total_force, 'pressure': pressure}\n",
    "    return result"
   ]
  },
  {
   "cell_type": "code",
   "execution_count": 42,
   "id": "32f23113",
   "metadata": {},
   "outputs": [],
   "source": [
    "from ase import Atom\n",
    "from ase import io"
   ]
  },
  {
   "cell_type": "code",
   "execution_count": 43,
   "id": "a5561e6f",
   "metadata": {},
   "outputs": [],
   "source": [
    "Hf = Atom()"
   ]
  },
  {
   "cell_type": "code",
   "execution_count": 44,
   "id": "f15af9b5",
   "metadata": {},
   "outputs": [],
   "source": [
    "from ase.lattice.hexagonal import HexagonalClosedPacked"
   ]
  },
  {
   "cell_type": "code",
   "execution_count": 45,
   "id": "355eedbe",
   "metadata": {},
   "outputs": [],
   "source": [
    "HexagonalClosedPacked?"
   ]
  },
  {
   "cell_type": "code",
   "execution_count": 46,
   "id": "e96961cd",
   "metadata": {},
   "outputs": [],
   "source": [
    "Hf = HexagonalClosedPacked('Hf')"
   ]
  },
  {
   "cell_type": "code",
   "execution_count": 47,
   "id": "a714434d",
   "metadata": {},
   "outputs": [
    {
     "data": {
      "text/plain": [
       "{'_cellobj': Cell([[3.2, 0.0, 0.0], [-1.5999999999999994, 2.7712812921102046, 0.0], [0.0, 0.0, 5.0624]]),\n",
       " '_pbc': array([ True,  True,  True]),\n",
       " 'arrays': {'numbers': array([72, 72]),\n",
       "  'positions': array([[0.00000000e+00, 0.00000000e+00, 0.00000000e+00],\n",
       "         [5.99080509e-16, 1.84752086e+00, 2.53120000e+00]])},\n",
       " '_celldisp': array([[0.],\n",
       "        [0.],\n",
       "        [0.]]),\n",
       " '_constraints': [],\n",
       " 'info': {},\n",
       " '_calc': None,\n",
       " 'millerbasis': array([[ 3.20000000e+00,  0.00000000e+00,  0.00000000e+00],\n",
       "        [-1.60000000e+00,  2.77128129e+00,  0.00000000e+00],\n",
       "        [ 3.09982598e-16,  5.36905609e-16,  5.06240000e+00]]),\n",
       " '_addsorbate_info_size': array([1, 1])}"
      ]
     },
     "execution_count": 47,
     "metadata": {},
     "output_type": "execute_result"
    }
   ],
   "source": [
    "Hf.__dict__"
   ]
  },
  {
   "cell_type": "code",
   "execution_count": 48,
   "id": "f590da32",
   "metadata": {},
   "outputs": [
    {
     "data": {
      "text/plain": [
       "Cell([[3.2, 0.0, 0.0], [-1.5999999999999994, 2.7712812921102046, 0.0], [0.0, 0.0, 5.0624]])"
      ]
     },
     "execution_count": 48,
     "metadata": {},
     "output_type": "execute_result"
    }
   ],
   "source": [
    "Hf.cell"
   ]
  },
  {
   "cell_type": "code",
   "execution_count": 52,
   "id": "4354aa02",
   "metadata": {},
   "outputs": [],
   "source": [
    "Hf = ase.build.bulk(name = 'Hf', crystalstructure = 'hcp', a = 3.5)"
   ]
  },
  {
   "cell_type": "code",
   "execution_count": 53,
   "id": "cfbdf030",
   "metadata": {},
   "outputs": [
    {
     "data": {
      "text/plain": [
       "Atoms(symbols='Hf2', pbc=True, cell=[[3.5, 0.0, 0.0], [-1.75, 3.031088913245535, 0.0], [0.0, 0.0, 5.537]])"
      ]
     },
     "execution_count": 53,
     "metadata": {},
     "output_type": "execute_result"
    }
   ],
   "source": [
    "Hf"
   ]
  },
  {
   "cell_type": "code",
   "execution_count": 57,
   "id": "957875dc",
   "metadata": {},
   "outputs": [],
   "source": [
    "ase.io.write('Hf.cif', Hf)"
   ]
  },
  {
   "cell_type": "code",
   "execution_count": 58,
   "id": "b0a5f860",
   "metadata": {},
   "outputs": [
    {
     "data": {
      "text/plain": [
       "Cell([[3.5, 0.0, 0.0], [-1.75, 3.031088913245535, 0.0], [0.0, 0.0, 5.537]])"
      ]
     },
     "execution_count": 58,
     "metadata": {},
     "output_type": "execute_result"
    }
   ],
   "source": [
    "Hf.cell"
   ]
  },
  {
   "cell_type": "code",
   "execution_count": 59,
   "id": "b57a8ed3",
   "metadata": {},
   "outputs": [
    {
     "data": {
      "text/plain": [
       "Atoms(symbols='Hf2', pbc=True, cell=[[3.5, 0.0, 0.0], [-1.75, 3.031088913245535, 0.0], [0.0, 0.0, 5.537]])"
      ]
     },
     "execution_count": 59,
     "metadata": {},
     "output_type": "execute_result"
    }
   ],
   "source": [
    "Hf"
   ]
  },
  {
   "cell_type": "code",
   "execution_count": null,
   "id": "a3b8c344",
   "metadata": {},
   "outputs": [],
   "source": []
  }
 ],
 "metadata": {
  "kernelspec": {
   "display_name": "Python 3 (ipykernel)",
   "language": "python",
   "name": "python3"
  },
  "language_info": {
   "codemirror_mode": {
    "name": "ipython",
    "version": 3
   },
   "file_extension": ".py",
   "mimetype": "text/x-python",
   "name": "python",
   "nbconvert_exporter": "python",
   "pygments_lexer": "ipython3",
   "version": "3.9.7"
  }
 },
 "nbformat": 4,
 "nbformat_minor": 5
}
