{
 "cells": [
  {
   "cell_type": "markdown",
   "id": "4a53c97b",
   "metadata": {},
   "source": [
    "# Part 1"
   ]
  },
  {
   "cell_type": "markdown",
   "id": "04f69347",
   "metadata": {},
   "source": [
    "## Lattice Parameter Optimzation: BCC and HCP"
   ]
  },
  {
   "cell_type": "code",
   "execution_count": 1,
   "id": "61497b69",
   "metadata": {},
   "outputs": [],
   "source": [
    "import numpy as np\n",
    "import pandas as pd\n",
    "import matplotlib.pyplot as plt"
   ]
  },
  {
   "cell_type": "markdown",
   "id": "1e133f5a",
   "metadata": {},
   "source": [
    "### BCC Structure"
   ]
  },
  {
   "cell_type": "markdown",
   "id": "eb6cd5ed",
   "metadata": {},
   "source": [
    "## Ground State Energy  versus k-points"
   ]
  },
  {
   "cell_type": "code",
   "execution_count": null,
   "id": "25ae746a",
   "metadata": {},
   "outputs": [],
   "source": []
  }
 ],
 "metadata": {
  "kernelspec": {
   "display_name": "Python 3 (ipykernel)",
   "language": "python",
   "name": "python3"
  },
  "language_info": {
   "codemirror_mode": {
    "name": "ipython",
    "version": 3
   },
   "file_extension": ".py",
   "mimetype": "text/x-python",
   "name": "python",
   "nbconvert_exporter": "python",
   "pygments_lexer": "ipython3",
   "version": "3.9.7"
  }
 },
 "nbformat": 4,
 "nbformat_minor": 5
}
