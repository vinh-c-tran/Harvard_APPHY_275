{
 "cells": [
  {
   "cell_type": "markdown",
   "id": "571a31ab",
   "metadata": {},
   "source": [
    "# Problem 1: Convergence of Absolute Energies with Respect to Cutoff Energies\n",
    "1. Using the Quantum ESPRESSO PWscf package, calculate the energy of Ge in the diamond structure as a function of plane-wave cutoff energy. A good range to try is 5- 80 Ry, doing calculations at increments of 5 Ry. When changing the cutoff, make sure to keep the other variables (lattice constant, k-points, etc) fixed and to record them. Record and plot your final results. Specify when you reach the level of convergence of around 5 meV/atom (convert this to Ry/atom). Note that the code calculates energy per primitive cell.\n",
    "\n",
    "2. Do you see a trend in your calculated energies and calculation time with respect to the cutoff? Is this what you expect and why?\n",
    "\n",
    "3. In Problem Set 1, we used a cubic unit cell. Here, we use the primitive cell. What are the advantages and disadvantages of both methods?\n"
   ]
  },
  {
   "cell_type": "code",
   "execution_count": 104,
   "id": "867606d7",
   "metadata": {},
   "outputs": [],
   "source": [
    "import subprocess\n",
    "import numpy as np\n",
    "import pandas as pd\n",
    "import matplotlib.pyplot as plt\n",
    "\n",
    "import matplotlib_inline.backend_inline\n",
    "matplotlib_inline.backend_inline.set_matplotlib_formats('retina')"
   ]
  },
  {
   "cell_type": "markdown",
   "id": "5ea4ad02",
   "metadata": {},
   "source": [
    "### Functions for automating Quantum Espresso calls\n",
    "1. Below we define a few (crude) functions that help us create our input file for quantum espresso. \n",
    "2. Then we loop over different values for the cut off energy, calculate the total energy, and parse the qe output file to store values in a python array for plotting. "
   ]
  },
  {
   "cell_type": "code",
   "execution_count": 16,
   "id": "a2f26c4a",
   "metadata": {},
   "outputs": [],
   "source": [
    "def file_name(element_name):\n",
    "    if (type(element_name) != str):\n",
    "        return \"Error: Please enter a valid element name string\"\n",
    "    return element_name + '.scf.in' "
   ]
  },
  {
   "cell_type": "code",
   "execution_count": 17,
   "id": "d409a9f1",
   "metadata": {},
   "outputs": [],
   "source": [
    "def control(file_object, prefix, pseudo_dir = '.', outdir = '.'):\n",
    "    \n",
    "    # prefix line \n",
    "    file_object.write('&control\\n')\n",
    "    prefix_line = '    prefix = ' + \"'\" + prefix + \"',\"\n",
    "    file_object.write(prefix_line + \"\\n\")\n",
    "    \n",
    "    # pseudo dir line \n",
    "    pseudo_dir_line = '    pseudo_dir = ' + \"'\" + pseudo_dir + \"',\"\n",
    "    file_object.write(pseudo_dir_line + \"\\n\")\n",
    "    \n",
    "    # \n",
    "    outdir_line = '    outdir = ' + \"'\" + outdir + \"',\"\n",
    "    file_object.write(outdir_line + \"\\n\" + '/')\n",
    "    file_object.write('\\n')    "
   ]
  },
  {
   "cell_type": "code",
   "execution_count": 18,
   "id": "4a3f0f35",
   "metadata": {},
   "outputs": [],
   "source": [
    "def system(file_object, ibrav, celldm_num, celldm, nat, ntyp, metal = 'no', ecutwfc = 20.0):\n",
    "    # system\n",
    "    file_object.write('&system\\n')\n",
    "    file_object.write('    ibrav = ' + str(ibrav) + ',\\n')\n",
    "    file_object.write('    celldm(' + str(celldm_num) + ') = ' + str(celldm) + ',\\n')\n",
    "    file_object.write('    nat = ' + str(nat) + ',\\n')\n",
    "    file_object.write('    ntyp = ' + str(ntyp) + ',\\n')\n",
    "    \n",
    "    if (metal == 'yes'):\n",
    "        file_object.write('    occupations = ' + \" 'smearing', \" + ',\\n')\n",
    "        file_object.write('    smearing = ' + \"'mp',\" + 'degauss = 0.06')\n",
    "    \n",
    "    file_object.write('    ecutwfc = ' + str(ecutwfc) + ',\\n')\n",
    "    \n",
    "    file_object.write('/' + '\\n')"
   ]
  },
  {
   "cell_type": "code",
   "execution_count": 19,
   "id": "1657c9b7",
   "metadata": {},
   "outputs": [],
   "source": [
    "def electrons(file_object):\n",
    "    file_object.write('&electrons\\n')\n",
    "    file_object.write('/' + '\\n')"
   ]
  },
  {
   "cell_type": "code",
   "execution_count": 20,
   "id": "02088521",
   "metadata": {},
   "outputs": [],
   "source": [
    "def atomic_species(file_object, species, mass, pseudo_pot):\n",
    "    \"\"\" extend functionality later \"\"\"\n",
    "    file_object.write('ATOMIC_SPECIES\\n')\n",
    "    file_object.write(' ' + species)\n",
    "    file_object.write(' ' + str(mass))\n",
    "    file_object.write(' ' + pseudo_pot + '\\n')"
   ]
  },
  {
   "cell_type": "code",
   "execution_count": 43,
   "id": "396336b5",
   "metadata": {},
   "outputs": [],
   "source": [
    "def atomic_positions(file_object, dicti):\n",
    "    \"\"\" need to link to ase later \n",
    "        accepts a dict: {species: location}\n",
    "    \"\"\"\n",
    "    file_object.write('ATOMIC_POSITIONS\\n')\n",
    "    for species in dicti:\n",
    "        file_object.write(\" \" + dicti[species] + \"\\n\")"
   ]
  },
  {
   "cell_type": "code",
   "execution_count": 48,
   "id": "61fd59dc",
   "metadata": {},
   "outputs": [],
   "source": [
    "def k_points(file_object, k_points, offset = 0):\n",
    "    file_object.write('K_POINTS automatic\\n')\n",
    "    k_points = str(k_points)\n",
    "    if (offset == 0):\n",
    "        file_object.write(' ' + k_points + ' ' + k_points + ' ' + k_points + ' 0 0 0' + \"\\n\")\n",
    "    else:\n",
    "        file_object.write(' ' + k_points + ' ' + k_points + ' ' + k_points + ' 1 1 1' + \"\\n\")"
   ]
  },
  {
   "cell_type": "code",
   "execution_count": 23,
   "id": "691f8140",
   "metadata": {},
   "outputs": [],
   "source": [
    "def file_write(element_name, struct):\n",
    "    name = file_name(element_name[0] + element_name[1])\n",
    "    f = open(name, 'w')\n",
    "    \n",
    "    control(f, element_name)\n",
    "    system(f, 2, 1, 10.690181, 2, 1)\n",
    "    electrons(f)\n",
    "    atomic_species(f, element_name[0] + element_name[1], 72.64, 'ge_pbe_v1.4.uspp.F.UPF')\n",
    "    \n",
    "    #struct = {\n",
    "    #            'Cu': '0.00 0.00 0.00'\n",
    "    #}\n",
    "    atomic_positions(f, struct)\n",
    "    k_points(f, 8)\n",
    "    \n",
    "    f.close()"
   ]
  },
  {
   "cell_type": "code",
   "execution_count": 103,
   "id": "b1e32276",
   "metadata": {},
   "outputs": [],
   "source": [
    "def parse_output(outfile):\n",
    "    \"\"\" Parses the quantum espresso output file \"\"\"\n",
    "    \n",
    "    with open(outfile, 'r') as outf:\n",
    "        for line in outf:\n",
    "            if (line.lower().startswith('     lattice parameter (alat)')):\n",
    "                lattice_constant = float(line.split()[-2]) * 0.529177\n",
    "            if (line.lower().startswith('!    total energy')):\n",
    "                total_energy = float(line.split()[-2]) * 13.605698066\n",
    "    \n",
    "    result = {'energy': total_energy, 'lattice': lattice_constant}\n",
    "    return result "
   ]
  },
  {
   "cell_type": "markdown",
   "id": "de8ee43d",
   "metadata": {},
   "source": [
    "## Germanium\n",
    "\n",
    "Germanium (Ge) has mass 72.64 au and a lattice constant of 10.69 Bohr. \n",
    "- Below we use an USPP pseudo-potential from materialscloud\n",
    "- Use 8x8x8 K-points \n",
    "- Use a diamond structure which consists of an fcc structure with one atom at $(0,0,0)$ and the other at $(0.25, 0.25, 0.25)$. \n"
   ]
  },
  {
   "cell_type": "code",
   "execution_count": 44,
   "id": "ff15980a",
   "metadata": {},
   "outputs": [],
   "source": [
    "# diamond structure Germanium \n",
    "\n",
    "struct = {\n",
    "    'atom1' : 'Ge 0.00 0.00 0.00', \n",
    "    'atom2' : 'Ge 0.25 0.25 0.25'\n",
    "}"
   ]
  },
  {
   "cell_type": "code",
   "execution_count": 45,
   "id": "910491b3",
   "metadata": {},
   "outputs": [
    {
     "data": {
      "text/plain": [
       "{'atom1': 'Ge 0.00 0.00 0.00', 'atom2': 'Ge 0.25 0.25 0.25'}"
      ]
     },
     "execution_count": 45,
     "metadata": {},
     "output_type": "execute_result"
    }
   ],
   "source": [
    "struct"
   ]
  },
  {
   "cell_type": "code",
   "execution_count": 46,
   "id": "a26ee003",
   "metadata": {},
   "outputs": [],
   "source": [
    "def ge_file_write(element_name, struct, cut_off):\n",
    "    name = file_name(element_name[0] + element_name[1])\n",
    "    f = open(name, 'w')\n",
    "    \n",
    "    control(f, element_name, '/Users/vinhtran/Documents/GitHub/DFT/First_Principles_Energy_Methods/Problem_1',\\\n",
    "               '/Users/vinhtran/Documents/GitHub/DFT/First_Principles_Energy_Methods/Problem_1')\n",
    "    system(f, 2, 1, 10.690181, 2, 1, 'no', cut_off)\n",
    "    electrons(f)\n",
    "    atomic_species(f, element_name[0] + element_name[1], 72.64, 'ge_pbe_v1.4.uspp.F.UPF')\n",
    "    atomic_positions(f, struct)\n",
    "    k_points(f, 8)\n",
    "\n",
    "    f.close()\n",
    "    return name "
   ]
  },
  {
   "cell_type": "code",
   "execution_count": 33,
   "id": "c849d5dc",
   "metadata": {},
   "outputs": [],
   "source": [
    "cut_off_energies = np.arange(5.0, 85.0, 5.0)"
   ]
  },
  {
   "cell_type": "code",
   "execution_count": 82,
   "id": "ca3b64a3",
   "metadata": {
    "scrolled": true
   },
   "outputs": [
    {
     "name": "stderr",
     "output_type": "stream",
     "text": [
      "rm: ge.scf.out: No such file or directory\n",
      "Note: The following floating-point exceptions are signalling: IEEE_INVALID_FLAG IEEE_DIVIDE_BY_ZERO IEEE_OVERFLOW_FLAG IEEE_UNDERFLOW_FLAG\n",
      "Note: The following floating-point exceptions are signalling: IEEE_INVALID_FLAG IEEE_DIVIDE_BY_ZERO IEEE_OVERFLOW_FLAG IEEE_UNDERFLOW_FLAG\n",
      "Note: The following floating-point exceptions are signalling: IEEE_INVALID_FLAG IEEE_DIVIDE_BY_ZERO IEEE_OVERFLOW_FLAG IEEE_UNDERFLOW_FLAG\n",
      "Note: The following floating-point exceptions are signalling: IEEE_INVALID_FLAG IEEE_DIVIDE_BY_ZERO IEEE_OVERFLOW_FLAG IEEE_UNDERFLOW_FLAG\n",
      "Note: The following floating-point exceptions are signalling: IEEE_INVALID_FLAG IEEE_DIVIDE_BY_ZERO IEEE_OVERFLOW_FLAG IEEE_UNDERFLOW_FLAG\n",
      "Note: The following floating-point exceptions are signalling: IEEE_INVALID_FLAG IEEE_DIVIDE_BY_ZERO IEEE_OVERFLOW_FLAG IEEE_UNDERFLOW_FLAG\n",
      "Note: The following floating-point exceptions are signalling: IEEE_INVALID_FLAG IEEE_DIVIDE_BY_ZERO IEEE_OVERFLOW_FLAG IEEE_UNDERFLOW_FLAG\n",
      "Note: The following floating-point exceptions are signalling: IEEE_INVALID_FLAG IEEE_DIVIDE_BY_ZERO IEEE_OVERFLOW_FLAG IEEE_UNDERFLOW_FLAG\n",
      "Note: The following floating-point exceptions are signalling: IEEE_INVALID_FLAG IEEE_DIVIDE_BY_ZERO IEEE_OVERFLOW_FLAG IEEE_UNDERFLOW_FLAG\n",
      "Note: The following floating-point exceptions are signalling: IEEE_INVALID_FLAG IEEE_DIVIDE_BY_ZERO IEEE_OVERFLOW_FLAG IEEE_UNDERFLOW_FLAG\n",
      "Note: The following floating-point exceptions are signalling: IEEE_INVALID_FLAG IEEE_DIVIDE_BY_ZERO IEEE_OVERFLOW_FLAG IEEE_UNDERFLOW_FLAG\n",
      "Note: The following floating-point exceptions are signalling: IEEE_INVALID_FLAG IEEE_DIVIDE_BY_ZERO IEEE_OVERFLOW_FLAG IEEE_UNDERFLOW_FLAG\n",
      "Note: The following floating-point exceptions are signalling: IEEE_INVALID_FLAG IEEE_DIVIDE_BY_ZERO IEEE_OVERFLOW_FLAG IEEE_UNDERFLOW_FLAG\n",
      "Note: The following floating-point exceptions are signalling: IEEE_INVALID_FLAG IEEE_DIVIDE_BY_ZERO IEEE_OVERFLOW_FLAG IEEE_UNDERFLOW_FLAG\n",
      "Note: The following floating-point exceptions are signalling: IEEE_INVALID_FLAG IEEE_DIVIDE_BY_ZERO IEEE_OVERFLOW_FLAG IEEE_UNDERFLOW_FLAG\n",
      "Note: The following floating-point exceptions are signalling: IEEE_INVALID_FLAG IEEE_DIVIDE_BY_ZERO IEEE_OVERFLOW_FLAG IEEE_UNDERFLOW_FLAG\n"
     ]
    }
   ],
   "source": [
    "total_energy = np.zeros(len(cut_off_energies))\n",
    "\n",
    "for i in range(len(cut_off_energies)): \n",
    "    # Remove existing files \n",
    "    subprocess.run([\"rm\", \"Ge.scf.in\", \"ge.scf.out\"])\n",
    "    # generate input file \n",
    "    name = ge_file_write('Germanium', struct, cut_off_energies[i])\n",
    "    # call qe calculation in shell \n",
    "    subprocess.run('pw.x -in Ge.scf.in > ge.scf.out', shell=True)\n",
    "    # parse output file and store values in result dict \n",
    "    result = parse_output('ge.scf.out')\n",
    "    # getting the energy back \n",
    "    total_energy[i] = result['energy']"
   ]
  },
  {
   "cell_type": "markdown",
   "id": "6f10aee9",
   "metadata": {},
   "source": [
    "## Plotting the Results"
   ]
  },
  {
   "cell_type": "code",
   "execution_count": 105,
   "id": "bc9220a3",
   "metadata": {},
   "outputs": [
    {
     "data": {
      "image/png": "[encoded data removed]",
      "text/plain": [
       "<Figure size 432x288 with 1 Axes>"
      ]
     },
     "metadata": {
      "image/png": {
       "height": 277,
       "width": 403
      },
      "needs_background": "light"
     },
     "output_type": "display_data"
    }
   ],
   "source": [
    "plt.scatter(cut_off_energies, total_energy)\n",
    "plt.grid() \n",
    "plt.xlabel('Cut off Energies in Ry')\n",
    "plt.ylabel('Total Energies in ')\n",
    "plt.title('Energy vs Cut Off Energy')\n",
    "#plt.show()\n",
    "plt.savefig('energy_vs_cutoff.pdf')"
   ]
  }
 ],
 "metadata": {
  "kernelspec": {
   "display_name": "Python 3 (ipykernel)",
   "language": "python",
   "name": "python3"
  },
  "language_info": {
   "codemirror_mode": {
    "name": "ipython",
    "version": 3
   },
   "file_extension": ".py",
   "mimetype": "text/x-python",
   "name": "python",
   "nbconvert_exporter": "python",
   "pygments_lexer": "ipython3",
   "version": "3.9.7"
  }
 },
 "nbformat": 4,
 "nbformat_minor": 5
}
