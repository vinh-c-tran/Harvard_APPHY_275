{
 "cells": [
  {
   "cell_type": "markdown",
   "id": "571a31ab",
   "metadata": {},
   "source": [
    "# Problem 2: Convergence of Absolute Energies with Respect to K Points\n",
    "1. Using PWscf, calculate the energy as a function of the size of the k-point grid used to integrate the Brillouin zone. For each grid, record the number of unique k-points. Record the computational time. When changing the size of the k-point grid, make sure to keep your other variables fixed (lattice constant, plane-wave cutoff, etc). One may choose a lower cutoff than the “converged” cutoff in the last problem. There are some “cross effects” in doing so, however we assume these are small.\n",
    "\n",
    "2. Do you see a trend in your calculated energies and calculation time with respect to the cutoff? Is this what you expect and why?"
   ]
  },
  {
   "cell_type": "code",
   "execution_count": 29,
   "id": "867606d7",
   "metadata": {},
   "outputs": [],
   "source": [
    "import subprocess\n",
    "import numpy as np\n",
    "import pandas as pd\n",
    "import matplotlib.pyplot as plt\n",
    "\n",
    "import matplotlib_inline.backend_inline\n",
    "matplotlib_inline.backend_inline.set_matplotlib_formats('retina')"
   ]
  },
  {
   "cell_type": "markdown",
   "id": "0d314527",
   "metadata": {},
   "source": [
    "### Functions for automating Quantum Espresso calls\n",
    "1. Below we define a few (crude) functions that help us create our input file for quantum espresso. \n",
    "2. Then we loop over different values for the cut off energy, calculate the total energy, and parse the qe output file to store values in a python array for plotting. "
   ]
  },
  {
   "cell_type": "code",
   "execution_count": 2,
   "id": "a2f26c4a",
   "metadata": {},
   "outputs": [],
   "source": [
    "def file_name(element_name):\n",
    "    if (type(element_name) != str):\n",
    "        return \"Error: Please enter a valid element name string\"\n",
    "    return element_name + '.scf.in' "
   ]
  },
  {
   "cell_type": "code",
   "execution_count": 3,
   "id": "d409a9f1",
   "metadata": {},
   "outputs": [],
   "source": [
    "def control(file_object, prefix, pseudo_dir = '.', outdir = '.'):\n",
    "    \n",
    "    # prefix line \n",
    "    file_object.write('&control\\n')\n",
    "    prefix_line = '    prefix = ' + \"'\" + prefix + \"',\"\n",
    "    file_object.write(prefix_line + \"\\n\")\n",
    "    \n",
    "    # pseudo dir line \n",
    "    pseudo_dir_line = '    pseudo_dir = ' + \"'\" + pseudo_dir + \"',\"\n",
    "    file_object.write(pseudo_dir_line + \"\\n\")\n",
    "    \n",
    "    # \n",
    "    outdir_line = '    outdir = ' + \"'\" + outdir + \"',\"\n",
    "    file_object.write(outdir_line + \"\\n\" + '/')\n",
    "    file_object.write('\\n')    "
   ]
  },
  {
   "cell_type": "code",
   "execution_count": 4,
   "id": "4a3f0f35",
   "metadata": {},
   "outputs": [],
   "source": [
    "def system(file_object, ibrav, celldm_num, celldm, nat, ntyp, metal = 'no', ecutwfc = 20.0):\n",
    "    # system\n",
    "    file_object.write('&system\\n')\n",
    "    file_object.write('    ibrav = ' + str(ibrav) + ',\\n')\n",
    "    file_object.write('    celldm(' + str(celldm_num) + ') = ' + str(celldm) + ',\\n')\n",
    "    file_object.write('    nat = ' + str(nat) + ',\\n')\n",
    "    file_object.write('    ntyp = ' + str(ntyp) + ',\\n')\n",
    "    \n",
    "    if (metal == 'yes'):\n",
    "        file_object.write('    occupations = ' + \" 'smearing', \" + ',\\n')\n",
    "        file_object.write('    smearing = ' + \"'mp',\" + 'degauss = 0.06')\n",
    "    \n",
    "    file_object.write('    ecutwfc = ' + str(ecutwfc) + ',\\n')\n",
    "    \n",
    "    file_object.write('/' + '\\n')"
   ]
  },
  {
   "cell_type": "code",
   "execution_count": 5,
   "id": "1657c9b7",
   "metadata": {},
   "outputs": [],
   "source": [
    "def electrons(file_object):\n",
    "    file_object.write('&electrons\\n')\n",
    "    file_object.write('/' + '\\n')"
   ]
  },
  {
   "cell_type": "code",
   "execution_count": 6,
   "id": "02088521",
   "metadata": {},
   "outputs": [],
   "source": [
    "def atomic_species(file_object, species, mass, pseudo_pot):\n",
    "    \"\"\" extend functionality later \"\"\"\n",
    "    file_object.write('ATOMIC_SPECIES\\n')\n",
    "    file_object.write(' ' + species)\n",
    "    file_object.write(' ' + str(mass))\n",
    "    file_object.write(' ' + pseudo_pot + '\\n')"
   ]
  },
  {
   "cell_type": "code",
   "execution_count": 7,
   "id": "396336b5",
   "metadata": {},
   "outputs": [],
   "source": [
    "def atomic_positions(file_object, dicti):\n",
    "    \"\"\" need to link to ase later \n",
    "        accepts a dict: {species: location}\n",
    "    \"\"\"\n",
    "    file_object.write('ATOMIC_POSITIONS\\n')\n",
    "    for species in dicti:\n",
    "        file_object.write(\" \" + dicti[species] + \"\\n\")"
   ]
  },
  {
   "cell_type": "code",
   "execution_count": 26,
   "id": "61fd59dc",
   "metadata": {},
   "outputs": [],
   "source": [
    "def k_points(file_object, k_point, offset = 0):\n",
    "    file_object.write('K_POINTS automatic\\n')\n",
    "    k_point = str(k_point)\n",
    "    if (offset == 0):\n",
    "        file_object.write(' ' + k_point + ' ' + k_point + ' ' + k_point + ' 0 0 0' + \"\\n\")\n",
    "    else:\n",
    "        file_object.write(' ' + k_point + ' ' + k_point + ' ' + k_point + ' 1 1 1' + \"\\n\")"
   ]
  },
  {
   "cell_type": "code",
   "execution_count": 23,
   "id": "691f8140",
   "metadata": {},
   "outputs": [],
   "source": [
    "def file_write(element_name, struct):\n",
    "    name = file_name(element_name[0] + element_name[1])\n",
    "    f = open(name, 'w')\n",
    "    \n",
    "    control(f, element_name)\n",
    "    system(f, 2, 1, 10.690181, 2, 1)\n",
    "    electrons(f)\n",
    "    atomic_species(f, element_name[0] + element_name[1], 72.64, 'ge_pbe_v1.4.uspp.F.UPF')\n",
    "    \n",
    "    #struct = {\n",
    "    #            'Cu': '0.00 0.00 0.00'\n",
    "    #}\n",
    "    atomic_positions(f, struct)\n",
    "    k_points(f, 8)\n",
    "    \n",
    "    f.close()"
   ]
  },
  {
   "cell_type": "code",
   "execution_count": 9,
   "id": "b0801451",
   "metadata": {},
   "outputs": [],
   "source": [
    "def parse_output(outfile):\n",
    "    \"\"\" Parses the quantum espresso output file \"\"\"\n",
    "    \n",
    "    with open(outfile, 'r') as outf:\n",
    "        for line in outf:\n",
    "            if (line.lower().startswith('     lattice parameter (alat)')):\n",
    "                lattice_constant = float(line.split()[-2]) * 0.529177\n",
    "            if (line.lower().startswith('!    total energy')):\n",
    "                total_energy = float(line.split()[-2]) * 13.605698066\n",
    "    \n",
    "    result = {'energy': total_energy, 'lattice': lattice_constant}\n",
    "    return result "
   ]
  },
  {
   "cell_type": "markdown",
   "id": "9bc6d8a3",
   "metadata": {},
   "source": [
    "## Germanium\n",
    "\n",
    "Germanium (Ge) has mass 72.64 au and a lattice constant of 10.69 Bohr. \n",
    "- Below we use an USPP pseudo-potential from materialscloud\n",
    "- Use 8x8x8 K-points \n",
    "- Use a diamond structure which consists of an fcc structure with one atom at $(0,0,0)$ and the other at $(0.25, 0.25, 0.25)$. \n"
   ]
  },
  {
   "cell_type": "code",
   "execution_count": 10,
   "id": "c29fecbd",
   "metadata": {},
   "outputs": [],
   "source": [
    "# diamond structure Germanium \n",
    "\n",
    "struct = {\n",
    "    'atom1' : 'Ge 0.00 0.00 0.00', \n",
    "    'atom2' : 'Ge 0.25 0.25 0.25'\n",
    "}"
   ]
  },
  {
   "cell_type": "code",
   "execution_count": 24,
   "id": "3636f436",
   "metadata": {},
   "outputs": [],
   "source": [
    "def ge_file_write(element_name, struct, k_point):\n",
    "    name = file_name(element_name[0] + element_name[1])\n",
    "    f = open(name, 'w')\n",
    "    \n",
    "    control(f, element_name, '/Users/vinhtran/Documents/GitHub/DFT/First_Principles_Energy_Methods/Problem_1',\\\n",
    "               '/Users/vinhtran/Documents/GitHub/DFT/First_Principles_Energy_Methods/Problem_1')\n",
    "    system(f, 2, 1, 10.690181, 2, 1, 'no', 20.0)\n",
    "    electrons(f)\n",
    "    atomic_species(f, element_name[0] + element_name[1], 72.64, 'ge_pbe_v1.4.uspp.F.UPF')\n",
    "    atomic_positions(f, struct)\n",
    "    k_points(f, k_point)\n",
    "\n",
    "    f.close()\n",
    "    return name "
   ]
  },
  {
   "cell_type": "code",
   "execution_count": 20,
   "id": "cb969139",
   "metadata": {},
   "outputs": [],
   "source": [
    "k_point = np.arange(1, 16, 1)"
   ]
  },
  {
   "cell_type": "code",
   "execution_count": 27,
   "id": "4be55ee2",
   "metadata": {
    "scrolled": true
   },
   "outputs": [
    {
     "name": "stderr",
     "output_type": "stream",
     "text": [
      "rm: ge.scf.out: No such file or directory\n",
      "Note: The following floating-point exceptions are signalling: IEEE_INVALID_FLAG IEEE_DIVIDE_BY_ZERO IEEE_OVERFLOW_FLAG IEEE_UNDERFLOW_FLAG\n",
      "Note: The following floating-point exceptions are signalling: IEEE_INVALID_FLAG IEEE_DIVIDE_BY_ZERO IEEE_OVERFLOW_FLAG IEEE_UNDERFLOW_FLAG\n",
      "Note: The following floating-point exceptions are signalling: IEEE_INVALID_FLAG IEEE_DIVIDE_BY_ZERO IEEE_OVERFLOW_FLAG IEEE_UNDERFLOW_FLAG\n",
      "Note: The following floating-point exceptions are signalling: IEEE_INVALID_FLAG IEEE_DIVIDE_BY_ZERO IEEE_OVERFLOW_FLAG IEEE_UNDERFLOW_FLAG\n",
      "Note: The following floating-point exceptions are signalling: IEEE_INVALID_FLAG IEEE_DIVIDE_BY_ZERO IEEE_OVERFLOW_FLAG IEEE_UNDERFLOW_FLAG\n",
      "Note: The following floating-point exceptions are signalling: IEEE_INVALID_FLAG IEEE_DIVIDE_BY_ZERO IEEE_OVERFLOW_FLAG IEEE_UNDERFLOW_FLAG\n",
      "Note: The following floating-point exceptions are signalling: IEEE_INVALID_FLAG IEEE_DIVIDE_BY_ZERO IEEE_OVERFLOW_FLAG IEEE_UNDERFLOW_FLAG\n",
      "Note: The following floating-point exceptions are signalling: IEEE_INVALID_FLAG IEEE_DIVIDE_BY_ZERO IEEE_OVERFLOW_FLAG IEEE_UNDERFLOW_FLAG\n",
      "Note: The following floating-point exceptions are signalling: IEEE_INVALID_FLAG IEEE_DIVIDE_BY_ZERO IEEE_OVERFLOW_FLAG IEEE_UNDERFLOW_FLAG\n",
      "Note: The following floating-point exceptions are signalling: IEEE_INVALID_FLAG IEEE_DIVIDE_BY_ZERO IEEE_OVERFLOW_FLAG IEEE_UNDERFLOW_FLAG\n",
      "Note: The following floating-point exceptions are signalling: IEEE_INVALID_FLAG IEEE_DIVIDE_BY_ZERO IEEE_OVERFLOW_FLAG IEEE_UNDERFLOW_FLAG\n",
      "Note: The following floating-point exceptions are signalling: IEEE_INVALID_FLAG IEEE_DIVIDE_BY_ZERO IEEE_OVERFLOW_FLAG IEEE_UNDERFLOW_FLAG\n",
      "Note: The following floating-point exceptions are signalling: IEEE_INVALID_FLAG IEEE_DIVIDE_BY_ZERO IEEE_OVERFLOW_FLAG IEEE_UNDERFLOW_FLAG\n",
      "Note: The following floating-point exceptions are signalling: IEEE_INVALID_FLAG IEEE_DIVIDE_BY_ZERO IEEE_OVERFLOW_FLAG IEEE_UNDERFLOW_FLAG\n",
      "Note: The following floating-point exceptions are signalling: IEEE_INVALID_FLAG IEEE_DIVIDE_BY_ZERO IEEE_OVERFLOW_FLAG IEEE_UNDERFLOW_FLAG\n"
     ]
    }
   ],
   "source": [
    "total_energy = np.zeros(len(k_point))\n",
    "\n",
    "for i in range(len(k_point)): \n",
    "    # Remove existing files \n",
    "    subprocess.run([\"rm\", \"Ge.scf.in\", \"ge.scf.out\"])\n",
    "    # generate input file \n",
    "    name = ge_file_write('Germanium', struct, k_point[i])\n",
    "    # call qe calculation in shell \n",
    "    subprocess.run('pw.x -in Ge.scf.in > ge.scf.out', shell=True);\n",
    "    # parse output file and store values in result dict \n",
    "    result = parse_output('ge.scf.out')\n",
    "    # getting the energy back \n",
    "    total_energy[i] = result['energy']"
   ]
  },
  {
   "cell_type": "markdown",
   "id": "c7078121",
   "metadata": {},
   "source": [
    "## Plotting the Results"
   ]
  },
  {
   "cell_type": "code",
   "execution_count": 30,
   "id": "e678209e",
   "metadata": {},
   "outputs": [
    {
     "data": {
      "image/png": "[encoded data removed]",
      "text/plain": [
       "<Figure size 432x288 with 1 Axes>"
      ]
     },
     "metadata": {
      "image/png": {
       "height": 277,
       "width": 403
      },
      "needs_background": "light"
     },
     "output_type": "display_data"
    }
   ],
   "source": [
    "plt.scatter(k_point, total_energy)\n",
    "plt.grid() \n",
    "plt.xlabel('Cut off Energies in Ry')\n",
    "plt.ylabel('Total Energies in ')\n",
    "plt.title('Energy vs Cut Off Energy')\n",
    "#plt.show()\n",
    "plt.savefig('energy_vs_cutoff.pdf')"
   ]
  },
  {
   "cell_type": "code",
   "execution_count": null,
   "id": "5a3af3bf",
   "metadata": {},
   "outputs": [],
   "source": []
  }
 ],
 "metadata": {
  "kernelspec": {
   "display_name": "Python 3 (ipykernel)",
   "language": "python",
   "name": "python3"
  },
  "language_info": {
   "codemirror_mode": {
    "name": "ipython",
    "version": 3
   },
   "file_extension": ".py",
   "mimetype": "text/x-python",
   "name": "python",
   "nbconvert_exporter": "python",
   "pygments_lexer": "ipython3",
   "version": "3.9.7"
  }
 },
 "nbformat": 4,
 "nbformat_minor": 5
}
